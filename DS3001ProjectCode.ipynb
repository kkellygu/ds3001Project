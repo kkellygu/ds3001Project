{
  "cells": [
    {
      "cell_type": "markdown",
      "metadata": {
        "colab_type": "text",
        "id": "view-in-github"
      },
      "source": [
        "<a href=\"https://colab.research.google.com/github/kkellygu/ds3001Project/blob/main/DS3001ProjectCode.ipynb\" target=\"_parent\"><img src=\"https://colab.research.google.com/assets/colab-badge.svg\" alt=\"Open In Colab\"/></a>"
      ]
    },
    {
      "cell_type": "code",
      "execution_count": 4,
      "metadata": {
        "id": "Xc7H4AYddk3_"
      },
      "outputs": [],
      "source": [
        "# Packages\n",
        "import numpy as np\n",
        "import matplotlib.pyplot as plt\n",
        "import seaborn as sns\n",
        "import pandas as pd"
      ]
    },
    {
      "cell_type": "code",
      "execution_count": null,
      "metadata": {
        "id": "JvSMSFEnAqfY"
      },
      "outputs": [],
      "source": [
        "from google.colab import drive\n",
        "drive.mount('/content/drive')"
      ]
    },
    {
      "cell_type": "code",
      "execution_count": null,
      "metadata": {
        "colab": {
          "base_uri": "https://localhost:8080/",
          "height": 1000
        },
        "id": "5XxNR-b17iBs",
        "outputId": "7fb0d2aa-2c41-45ab-98be-dafc095dd28a"
      },
      "outputs": [],
      "source": [
        "# Read in the csv file\n",
        "df = pd.read_csv('/content/mental-heath-in-tech-2016_20161114.csv')\n",
        "\n",
        "# Display dataframe information\n",
        "print(\"Database information:\")\n",
        "df.info()\n",
        "print(\"\\nDatabase shape: \", df.shape)\n",
        "print(\"\\nDatabase description:\\n\", df.describe())\n",
        "df.head()"
      ]
    },
    {
      "cell_type": "code",
      "execution_count": null,
      "metadata": {
        "id": "ymROeD258irA"
      },
      "outputs": [],
      "source": [
        "question_col = 'Do you think that discussing a mental health disorder with your employer would have negative consequences?'\n",
        "response_counts = df[question_col].value_counts()\n",
        "\n",
        "plt.figure(figsize=(10, 6))\n",
        "response_counts.plot(kind='bar')\n",
        "plt.title('Impact of Discussing Mental Health with Employer')\n",
        "plt.xlabel('Response')\n",
        "plt.ylabel('Count')\n",
        "plt.xticks(rotation=45)\n",
        "plt.show()"
      ]
    },
    {
      "cell_type": "code",
      "execution_count": null,
      "metadata": {},
      "outputs": [],
      "source": [
        "# graphing number of respondents by state and tech\n",
        "state_col = 'What US state or territory do you work in?'\n",
        "tech_col = 'Is your employer primarily a tech company/organization?'\n",
        "\n",
        "response_counts = df.groupby([state_col, tech_col]).size().unstack(fill_value=0)\n",
        "\n",
        "ax = response_counts.plot(kind='bar', stacked=False, color=['skyblue', 'salmon'], figsize=(10, 6))\n",
        "\n",
        "plt.title('Number of Respondents by US State and Tech')\n",
        "plt.xlabel('US State')\n",
        "plt.ylabel('Count')\n",
        "plt.xticks(rotation=90)\n",
        "plt.legend(title='Tech Status', labels=['Non-Tech', 'Tech'])\n",
        "plt.show()"
      ]
    },
    {
      "cell_type": "code",
      "execution_count": null,
      "metadata": {},
      "outputs": [],
      "source": [
        "# graphing number of respondents by country and tech\n",
        "country_col = 'What country do you work in?'\n",
        "tech_col = 'Is your employer primarily a tech company/organization?'\n",
        "\n",
        "response_counts = df.groupby([country_col, tech_col]).size().unstack(fill_value=0)\n",
        "\n",
        "ax = response_counts.plot(kind='bar', stacked=False, color=['skyblue', 'salmon'], figsize=(10, 6))\n",
        "\n",
        "plt.title('Number of Respondents by US Country and Tech')\n",
        "plt.xlabel('Country')\n",
        "plt.ylabel('Count')\n",
        "plt.xticks(rotation=90)\n",
        "plt.legend(title='Tech Status', labels=['Non-Tech', 'Tech'])\n",
        "plt.show()"
      ]
    }
  ],
  "metadata": {
    "colab": {
      "include_colab_link": true,
      "provenance": [],
      "toc_visible": true
    },
    "kernelspec": {
      "display_name": "Python 3",
      "name": "python3"
    },
    "language_info": {
      "codemirror_mode": {
        "name": "ipython",
        "version": 3
      },
      "file_extension": ".py",
      "mimetype": "text/x-python",
      "name": "python",
      "nbconvert_exporter": "python",
      "pygments_lexer": "ipython3",
      "version": "3.9.6"
    }
  },
  "nbformat": 4,
  "nbformat_minor": 0
}
